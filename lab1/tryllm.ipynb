{
 "cells": [
  {
   "cell_type": "markdown",
   "metadata": {},
   "source": [
    "# Lab 1: Try Cloud-based LLM API Services"
   ]
  },
  {
   "cell_type": "markdown",
   "metadata": {},
   "source": [
    "## You will learn:\n",
    "- First experience how to do run program on the cloud\n",
    "- Learn how to manage API keys\n",
    "- Frist experience of using different LLM APIs\n",
    "- (If you haven't used it before), how to use Jupyter Notebook in VSCode"
   ]
  },
  {
   "cell_type": "markdown",
   "metadata": {},
   "source": [
    "## 0 Preparations"
   ]
  },
  {
   "cell_type": "markdown",
   "metadata": {},
   "source": [
    "### 0.1 Dependencies"
   ]
  },
  {
   "cell_type": "code",
   "execution_count": 6,
   "metadata": {},
   "outputs": [],
   "source": [
    "# requirements.txt contains the basic packages needed to implement this project\n",
    "# We have installed all dependencies in the default image, so you do not have to install them again, if you use the default image.\n",
    "#!pip install -r requirements.txt"
   ]
  },
  {
   "cell_type": "markdown",
   "metadata": {},
   "source": [
    "### 0.2 Saving your API token in a .env file"
   ]
  },
  {
   "cell_type": "code",
   "execution_count": 7,
   "metadata": {},
   "outputs": [],
   "source": [
    "\n",
    "# Instead of hardcoding the OpenAI API key, use the dotenv package to load it securely from environment variables.\n",
    "# \n",
    "# Instructions to do it:\n",
    "# 1. Install the dotenv package if you haven't already by running: `pip install python-dotenv`\n",
    "# 2. Create a new file named .env in the root directory of your project. (AND Never commit it to Git!)\n",
    "# 3. The content in this file should be stored as key-value pair. The .env file is simply a text file with one key-value per line like:\n",
    "# \n",
    "#     # Comment 1\n",
    "#     KEY1=value1\n",
    "#     # Comment 2\n",
    "#     KEY2=value2\n",
    "# \n",
    "# 4. Load the environment variables in your Python code using the dotenv package:\n",
    "# \n",
    "#     from dotenv import load_dotenv\n",
    "#     import os\n",
    "#     load_dotenv()\n",
    "#     openai_api_key = os.environ.get(\"INFINI_API_KEY\")\n",
    "#     openai_base_url = os.environ.get(\"INFINI_BASE_URL\")\n",
    "# \n",
    "# More information see:\n",
    "# \n",
    "# https://pythonjishu.com/ifggzibrpkgavow/ "
   ]
  },
  {
   "cell_type": "markdown",
   "metadata": {},
   "source": [
    "##  1 Using OpenAI API"
   ]
  },
  {
   "cell_type": "markdown",
   "metadata": {},
   "source": [
    "### 1.1 Get response from a public API server"
   ]
  },
  {
   "cell_type": "code",
   "execution_count": 1,
   "metadata": {},
   "outputs": [
    {
     "name": "stdout",
     "output_type": "stream",
     "text": [
      "https://cloud.infini-ai.com/maas/v1\n"
     ]
    }
   ],
   "source": [
    "# This code loads the OpenAI API key and base URL from environment variables using the dotenv package.\n",
    "# It ensures that sensitive information is not hardcoded in the script, enhancing security.\n",
    "\n",
    "from dotenv import load_dotenv\n",
    "import os\n",
    "load_dotenv()\n",
    "openai_api_key = os.environ.get(\"INFINI_API_KEY\")\n",
    "openai_base_url = os.environ.get(\"INFINI_BASE_URL\")\n",
    "\n",
    "print(openai_base_url)  "
   ]
  },
  {
   "cell_type": "code",
   "execution_count": 6,
   "metadata": {},
   "outputs": [
    {
     "name": "stdout",
     "output_type": "stream",
     "text": [
      "ChatCompletion(id='chatcmpl-1a928ca4c2b8479b8f6f6fde5a125540', choices=[Choice(finish_reason='stop', index=0, logprobs=ChoiceLogprobs(content=[], refusal=None), message=ChatCompletionMessage(content='<think>\\nOkay, so the user previously asked who won the World Series in 2020, and I told them it was the Los Angeles Dodgers. Now, they\\'re asking, \"Where was it played?\" Hmm, I need to figure out the best way to answer this.\\n\\nFirst, I should recall where the 2020 World Series took place. I remember that due to the COVID-19 pandemic, that year was a bit unusual. The series wasn\\'t played in the usual locations like Dodger Stadium or Fenway Park. Instead, it was held at a neutral site.\\n\\nWait, wasn\\'t it at Globe Life Field? Yes, that\\'s right. The Texas Rangers\\' stadium in Arlington, Texas. So, the World Series was entirely played there, which was a change from the typical home-and-away format.\\n\\nThe user might be interested in the location because they\\'re a baseball fan or just curious about the unusual setup that year. Maybe they want to know why it was held there or if it was the first time. I should provide clear and concise information.\\n\\nI should also mention that it was a neutral site because of the pandemic. That context might help them understand why it wasn\\'t in the usual places. Plus, it\\'s good to note that both the Dodgers and the opposing team played all games at Globe Life Field.\\n\\nI think that\\'s all they need. I\\'ll keep the response straightforward without adding unnecessary details unless they ask for more.\\n</think>\\n\\nThe 2020 World Series was played at **Globe Life Field** in Arlington, Texas. Due to the COVID-19 pandemic, the series was held at a neutral site rather than alternating between the home ballparks of the two teams. All seven games were played at Globe Life Field.', refusal=None, role='assistant', audio=None, function_call=None, tool_calls=[]), stop_reason=None)], created=1740727769, model='deepseek-r1-distill-qwen-32b', object='chat.completion', service_tier=None, system_fingerprint=None, usage=CompletionUsage(completion_tokens=363, prompt_tokens=45, total_tokens=408, completion_tokens_details=None, prompt_tokens_details=None))\n",
      "<think>\n",
      "Okay, so the user previously asked who won the World Series in 2020, and I told them it was the Los Angeles Dodgers. Now, they're asking, \"Where was it played?\" Hmm, I need to figure out the best way to answer this.\n",
      "\n",
      "First, I should recall where the 2020 World Series took place. I remember that due to the COVID-19 pandemic, that year was a bit unusual. The series wasn't played in the usual locations like Dodger Stadium or Fenway Park. Instead, it was held at a neutral site.\n",
      "\n",
      "Wait, wasn't it at Globe Life Field? Yes, that's right. The Texas Rangers' stadium in Arlington, Texas. So, the World Series was entirely played there, which was a change from the typical home-and-away format.\n",
      "\n",
      "The user might be interested in the location because they're a baseball fan or just curious about the unusual setup that year. Maybe they want to know why it was held there or if it was the first time. I should provide clear and concise information.\n",
      "\n",
      "I should also mention that it was a neutral site because of the pandemic. That context might help them understand why it wasn't in the usual places. Plus, it's good to note that both the Dodgers and the opposing team played all games at Globe Life Field.\n",
      "\n",
      "I think that's all they need. I'll keep the response straightforward without adding unnecessary details unless they ask for more.\n",
      "</think>\n",
      "\n",
      "The 2020 World Series was played at **Globe Life Field** in Arlington, Texas. Due to the COVID-19 pandemic, the series was held at a neutral site rather than alternating between the home ballparks of the two teams. All seven games were played at Globe Life Field.\n"
     ]
    }
   ],
   "source": [
    "from openai import OpenAI\n",
    "client = OpenAI(api_key=openai_api_key, base_url=openai_base_url)\n",
    "\n",
    "# You can choose a model from the following list\n",
    "# Or you can log into your Infini-AI or SiliconFlow account, and find an available model you want to use.\n",
    "# model = \"Qwen/QVQ-72B-Preview\"\n",
    "# model=\"llama-3.3-70b-instruct\"\n",
    "model=\"deepseek-r1-distill-qwen-32b\"\n",
    "\n",
    "response = client.chat.completions.create(\n",
    "  model=model,\n",
    "  messages=[\n",
    "    {\"role\": \"system\", \"content\": \"You are a helpful assistant.\"},\n",
    "    {\"role\": \"user\", \"content\": \"Who won the world series in 2020?\"},\n",
    "    {\"role\": \"assistant\", \"content\": \"The Los Angeles Dodgers won the World Series in 2020.\"},\n",
    "    {\"role\": \"user\", \"content\": \"Where was it played?\"}\n",
    "  ]\n",
    ")\n",
    "print(response)\n",
    "print(response.choices[0].message.content)"
   ]
  },
  {
   "cell_type": "code",
   "execution_count": 7,
   "metadata": {},
   "outputs": [
    {
     "data": {
      "text/markdown": [
       "<think>\n",
       "Okay, so the user previously asked who won the World Series in 2020, and I told them it was the Los Angeles Dodgers. Now, they're asking, \"Where was it played?\" Hmm, I need to figure out the best way to answer this.\n",
       "\n",
       "First, I should recall where the 2020 World Series took place. I remember that due to the COVID-19 pandemic, that year was a bit unusual. The series wasn't played in the usual locations like Dodger Stadium or Fenway Park. Instead, it was held at a neutral site.\n",
       "\n",
       "Wait, wasn't it at Globe Life Field? Yes, that's right. The Texas Rangers' stadium in Arlington, Texas. So, the World Series was entirely played there, which was a change from the typical home-and-away format.\n",
       "\n",
       "The user might be interested in the location because they're a baseball fan or just curious about the unusual setup that year. Maybe they want to know why it was held there or if it was the first time. I should provide clear and concise information.\n",
       "\n",
       "I should also mention that it was a neutral site because of the pandemic. That context might help them understand why it wasn't in the usual places. Plus, it's good to note that both the Dodgers and the opposing team played all games at Globe Life Field.\n",
       "\n",
       "I think that's all they need. I'll keep the response straightforward without adding unnecessary details unless they ask for more.\n",
       "</think>\n",
       "\n",
       "The 2020 World Series was played at **Globe Life Field** in Arlington, Texas. Due to the COVID-19 pandemic, the series was held at a neutral site rather than alternating between the home ballparks of the two teams. All seven games were played at Globe Life Field."
      ],
      "text/plain": [
       "<IPython.core.display.Markdown object>"
      ]
     },
     "execution_count": 7,
     "metadata": {},
     "output_type": "execute_result"
    }
   ],
   "source": [
    "# pretty format the response\n",
    "import IPython\n",
    "IPython.display.Markdown(response.choices[0].message.content)"
   ]
  },
  {
   "cell_type": "code",
   "execution_count": 11,
   "metadata": {},
   "outputs": [
    {
     "data": {
      "text/markdown": [
       "<think>\n",
       "Alright, the user just asked, \"Where was it played?\" referring to the 2020 World Series. From the previous conversation, I know they were asking about who won that year, and I told them it was the Los Angeles Dodgers. So now, they're following up with the location.\n",
       "\n",
       "I need to figure out where the 2020 World Series took place. I remember that the World Series is usually played in October, and each year it's hosted at different ballparks. Given that the Dodgers won, maybe it was at Dodger Stadium? But wait, the pandemic was happening in 2020, so I should check if that affected the location.\n",
       "\n",
       "Oh right, the 2020 World Series was indeed held at Dodger Stadium in Los Angeles. The pandemic led to the event being played at a neutral site with limited attendance. That's an important detail to include because it adds context about the unusual circumstances that year.\n",
       "\n",
       "So, the user might be interested in knowing not just the location, but also the context surrounding it. Including the pandemic information could provide a more complete answer. They might be a baseball fan looking for detailed information or someone writing a report who needs accurate facts.\n",
       "\n",
       "I should structure the response clearly, stating the location first and then adding the context about the pandemic and limited attendance. This way, the user gets both the direct answer and some relevant background information.\n",
       "</think>\n",
       "\n",
       "The 2020 World Series was played at **Dodger Stadium** in **Los Angeles, California**. Due to the COVID-19 pandemic, the event was held at a neutral site (Dodger Stadium) with limited attendance."
      ],
      "text/plain": [
       "<IPython.core.display.Markdown object>"
      ]
     },
     "execution_count": 11,
     "metadata": {},
     "output_type": "execute_result"
    }
   ],
   "source": [
    "from openai import OpenAI\n",
    "client = OpenAI(api_key=openai_api_key, base_url=openai_base_url)\n",
    "\n",
    "response = client.chat.completions.create(\n",
    "  model=model,\n",
    "  messages=[\n",
    "    {\"role\": \"system\", \"content\": \"You are a helpful assistant.\"},\n",
    "    {\"role\": \"user\", \"content\": \"Who won the world series in 2020?\"},\n",
    "    {\"role\": \"assistant\", \"content\": \"The Los Angeles Dodgers won the World Series in 2020.\"},\n",
    "    {\"role\": \"user\", \"content\": \"Where was it played?\"}\n",
    "  ]\n",
    ")\n",
    "IPython.display.Markdown(response.choices[0].message.content)"
   ]
  },
  {
   "cell_type": "code",
   "execution_count": 12,
   "metadata": {},
   "outputs": [
    {
     "name": "stdout",
     "output_type": "stream",
     "text": [
      "ChatCompletion(id='chatcmpl-ba501f8aaaac4c438fdf0a8254776b79'\n",
      "choices=[Choice(finish_reason='stop'\n",
      "index=0\n",
      "logprobs=ChoiceLogprobs(content=[]\n",
      "refusal=None)\n",
      "message=ChatCompletionMessage(content='<think>\\nAlright\n",
      "the user just asked\n",
      "\"Where was it played?\" referring to the 2020 World Series. From the previous conversation\n",
      "I know they were asking about who won that year\n",
      "and I told them it was the Los Angeles Dodgers. So now\n",
      "they\\'re following up with the location.\\n\\nI need to figure out where the 2020 World Series took place. I remember that the World Series is usually played in October\n",
      "and each year it\\'s hosted at different ballparks. Given that the Dodgers won\n",
      "maybe it was at Dodger Stadium? But wait\n",
      "the pandemic was happening in 2020\n",
      "so I should check if that affected the location.\\n\\nOh right\n",
      "the 2020 World Series was indeed held at Dodger Stadium in Los Angeles. The pandemic led to the event being played at a neutral site with limited attendance. That\\'s an important detail to include because it adds context about the unusual circumstances that year.\\n\\nSo\n",
      "the user might be interested in knowing not just the location\n",
      "but also the context surrounding it. Including the pandemic information could provide a more complete answer. They might be a baseball fan looking for detailed information or someone writing a report who needs accurate facts.\\n\\nI should structure the response clearly\n",
      "stating the location first and then adding the context about the pandemic and limited attendance. This way\n",
      "the user gets both the direct answer and some relevant background information.\\n</think>\\n\\nThe 2020 World Series was played at **Dodger Stadium** in **Los Angeles\n",
      "California**. Due to the COVID-19 pandemic\n",
      "the event was held at a neutral site (Dodger Stadium) with limited attendance.'\n",
      "refusal=None\n",
      "role='assistant'\n",
      "audio=None\n",
      "function_call=None\n",
      "tool_calls=[])\n",
      "stop_reason=None)]\n",
      "created=1740665967\n",
      "model='deepseek-r1-distill-qwen-32b'\n",
      "object='chat.completion'\n",
      "service_tier=None\n",
      "system_fingerprint=None\n",
      "usage=CompletionUsage(completion_tokens=343\n",
      "prompt_tokens=45\n",
      "total_tokens=388\n",
      "completion_tokens_details=None\n",
      "prompt_tokens_details=None))\n"
     ]
    }
   ],
   "source": [
    "#### YOUR TASK ####\n",
    "# You can explore what information is in the response object by printing it out and examine it\n",
    "response_str = str(response)\n",
    "response_parts = response_str.split(\", \")\n",
    "for part in response_parts:\n",
    "    print(part)\n"
   ]
  },
  {
   "cell_type": "markdown",
   "metadata": {},
   "source": [
    "You can learn more about the OpenAI API from https://platform.openai.com/docs/overview"
   ]
  },
  {
   "cell_type": "markdown",
   "metadata": {},
   "source": [
    "## 1.2  Your Task: Try to find a question that Llama-3.3 cannot answer.\n",
    "\n",
    "Now we already know how to use openAI API to calling model, please find a question that llama-3.3-70b-instruct cannot answer or obvious need to improve."
   ]
  },
  {
   "cell_type": "code",
   "execution_count": 10,
   "metadata": {},
   "outputs": [],
   "source": [
    "#### YOUR TASK ####\n",
    "# Find the question\n",
    "question=\"Do commute operators share the same eigenvectors?\""
   ]
  },
  {
   "cell_type": "code",
   "execution_count": 11,
   "metadata": {},
   "outputs": [
    {
     "data": {
      "text/markdown": [
       "\n",
       "Commute operators share the same eigenvectors if and only if they commute with each other. Two operators \\( A \\) and \\( B \\) commute if their product \\( AB \\) is equal to \\( BA \\) for all possible inputs. When operators commute, they have a common set of eigenvectors, which are vectors that satisfy the equation:\n",
       "\n",
       "\\[ A | v \\rangle = \\lambda | v \\rangle \\]\n",
       "\\[ B | v \\rangle = \\mu | v \\rangle \\]\n",
       "\n",
       "where \\( | v \\rangle \\) is the eigenvector, and \\( \\lambda \\) and \\( \\mu \\) are the corresponding eigenvalues. The eigenvectors corresponding to the same eigenvalue form a subspace, and this subspace is the same for all commuting operators. However, the eigenvectors themselves may not be the same unless the eigenvalues are the same for both operators. If the eigenvalues are different, the eigenvectors will also be different, but they will still belong to the same subspace.\n",
       "\n",
       "If the operators do not commute, they do not necessarily share the same eigenvectors, and the relationship between their eigenvectors can be more complex. In general, the study of operator commutativity and its implications for eigenvectors falls under the domain of functional analysis and quantum mechanics, depending on the context."
      ],
      "text/plain": [
       "<IPython.core.display.Markdown object>"
      ]
     },
     "execution_count": 11,
     "metadata": {},
     "output_type": "execute_result"
    }
   ],
   "source": [
    "#### YOUR TASK ####\n",
    "# using the llama-3.3-70b model, create a chat response to the prompt above\n",
    "model=\"chatglm3\"\n",
    "from openai import OpenAI\n",
    "client = OpenAI(api_key=openai_api_key, base_url=openai_base_url)\n",
    "response = client.chat.completions.create(\n",
    "  model=model,\n",
    "  messages=[\n",
    "    {\"role\": \"system\", \"content\": \"You are a helpful assistant.\"},\n",
    "    {\"role\": \"user\", \"content\": question}\n",
    "  ]\n",
    ")\n",
    "IPython.display.Markdown(response.choices[0].message.content)"
   ]
  },
  {
   "cell_type": "code",
   "execution_count": 15,
   "metadata": {},
   "outputs": [
    {
     "data": {
      "text/markdown": [
       "\n",
       "Commutativity of operators is indeed a deep and important concept in quantum mechanics and linear algebra. Let's first clarify the definition of commutativity:\n",
       "\n",
       "Two operators \\( A \\) and \\( B \\) are said to commute if their commutator is zero, i.e., \\( [A, B] = AB - BA = 0 \\).\n",
       "\n",
       "Now, regarding the eigenvectors of commuting operators, the answer is generally yes, they share the same eigenvectors. This is a direct consequence of the spectral theorem and the Stone-von Neumann theorem, which state that if two self-adjoint operators commute, they have the same set of eigenvectors, up to a phase factor. However, the eigenvalues might not be the same.\n",
       "\n",
       "To prove this, one would typically use the spectral theorem, which states that every self-adjoint operator on a Hilbert space has a complete orthonormal set of eigenvectors, and the eigenspaces corresponding to distinct eigenvalues are orthogonal. If \\( A \\) and \\( B \\) are two self-adjoint operators that commute, then their eigenvectors form an orthonormal basis for the Hilbert space.\n",
       "\n",
       "Here's a simple outline of a proof:\n",
       "\n",
       "1. Assume \\( A \\) and \\( B \\) are self-adjoint operators that commute.\n",
       "2. Apply the spectral theorem to both \\( A \\) and \\( B \\) to obtain orthonormal sets of eigenvectors \\( \\{u_i\\}_{i=1}^{n} \\) and \\( \\{v_j\\}_{j=1}^{n} \\) for \\( A \\) and \\( B \\), respectively.\n",
       "3. Since \\( A \\) and \\( B \\) commute, the set \\( \\{u_i \\cdot v_j\\}_{i,j=1}^{n} \\) is also orthonormal, as the inner product of two eigenvectors of a self-adjoint operator is equal to the product of their eigenvalues, and commute operators have the same eigenvalues (up to a phase factor).\n",
       "4. Show that this set forms an orthonormal basis for the entire Hilbert space, which implies that all eigenvectors of \\( A \\) are also eigenvectors of \\( B \\), and vice versa.\n",
       "\n",
       "However, there is an important qualification to this: while commuting self-adjoint operators generally share the same eigenvectors, this is not always the case for non-self-adjoint operators or non-commuting operators. For example, consider the simple case of two annihilation operators \\( a \\) and \\( b \\) for two different oscillator systems. These operators do not commute and do not share the same eigenvectors, as they operate on different spaces.\n",
       "\n",
       "Moreover, even for self-adjoint operators, if they do not commute, they may not share the same eigenvectors. An example is the position and momentum operators in quantum mechanics, which do not commute and have distinct eigenvectors.\n",
       "\n",
       "Therefore, the statement that commuting operators share the same eigenvectors is generally true for self-adjoint operators but is not universally true for all operators. The qualifications and exceptions depend on the specific properties of the operators in question."
      ],
      "text/plain": [
       "<IPython.core.display.Markdown object>"
      ]
     },
     "execution_count": 15,
     "metadata": {},
     "output_type": "execute_result"
    }
   ],
   "source": [
    "#### YOUR TASK ####\n",
    "### TODO: can you make llama-3.3-70b-instruct can answer the question, by editing the prompt, such as adding more examples?  \n",
    "response = client.chat.completions.create(\n",
    "  model=model,\n",
    "  messages=[\n",
    "    {\"role\": \"system\", \"content\": \"You are a helpful assistant.\"},\n",
    "    {\"role\": \"user\", \"content\": question},\n",
    "    {\"role\": \"assistant\", \"content\": \"If you think it's true, try proving the statement, and discuss carefully whether the steps in the proof is feasible. If you think it's false, try to find a counterexample, where two commute operators do not share the same eigenvectors.\"}\n",
    "  ]\n",
    ")\n",
    "IPython.display.Markdown(response.choices[0].message.content)"
   ]
  },
  {
   "cell_type": "code",
   "execution_count": null,
   "metadata": {},
   "outputs": [
    {
     "data": {
      "text/markdown": [
       "In quantum mechanics, commute operators typically refer to operators \\( A \\) and \\( B \\) such that their commutator \\([A, B] = AB - BA = 0\\). This means that \\( A \\) and \\( B \\) commute, and as a result, they share a common set of eigenvectors.\n",
       "\n",
       "To elaborate, if \\( A \\) and \\( B \\) are Hermitian operators (which is common in quantum mechanics as they represent observable quantities), and if they commute, then there exists a basis of the Hilbert space in which both \\( A \\) and \\( B \\) are diagonal. This is a consequence of the spectral theorem for commuting normal operators.\n",
       "\n",
       "For example, consider two commuting Hermitian operators \\( \\hat{A} \\) and \\( \\hat{B} \\). If \\(\\psi\\) is an eigenvector of \\( \\hat{A} \\) with eigenvalue \\( a \\), i.e., \\(\\hat{A} \\psi = a \\psi\\), then:\n",
       "\n",
       "\\[\n",
       "\\hat{B} \\hat{A} \\psi = \\hat{B} (a \\psi) = a \\hat{B} \\psi\n",
       "\\]\n",
       "\n",
       "Since \\(\\hat{A}\\) and \\(\\hat{B}\\) commute, we have:\n",
       "\n",
       "\\[\n",
       "\\hat{A} \\hat{B} \\psi = \\hat{B} \\hat{A} \\psi = a \\hat{B} \\psi\n",
       "\\]\n",
       "\n",
       "This implies that \\(\\hat{B} \\psi\\) is also an eigenvector of \\( \\hat{A} \\) with the same eigenvalue \\( a \\). Therefore, \\(\\psi\\) is an eigenvector of both \\( \\hat{A} \\) and \\( \\hat{B} \\).\n",
       "\n",
       "In summary, if two operators commute, they share a common set of eigenvectors, which can be diagonalized simultaneously in the same basis."
      ],
      "text/plain": [
       "<IPython.core.display.Markdown object>"
      ]
     },
     "execution_count": 16,
     "metadata": {},
     "output_type": "execute_result"
    }
   ],
   "source": [
    "#### YOUR TASK ####\n",
    "### TODO: Repeat the query with a variation of qwen2.5-7b-instruct. Can it answer the question? If not, can you edit the prompt again to make it better, again?\n",
    "model=\"qwen2.5-7b-instruct\"\n",
    "\n",
    "response = client.chat.completions.create(\n",
    "  model=model,\n",
    "  messages=[\n",
    "    {\"role\": \"system\", \"content\": \"You are a helpful assistant.\"},\n",
    "    {\"role\": \"user\", \"content\": question}\n",
    "  ]\n",
    ")\n",
    "IPython.display.Markdown(response.choices[0].message.content)"
   ]
  },
  {
   "cell_type": "code",
   "execution_count": 19,
   "metadata": {},
   "outputs": [
    {
     "data": {
      "text/markdown": [
       "Certainly! Let's consider the question of whether two commuting operators share the same eigenvectors. We'll approach this by first considering a general case, and then providing a counterexample to show that commuting operators do not necessarily share the same eigenvectors.\n",
       "\n",
       "### General Case\n",
       "\n",
       "Suppose \\( A \\) and \\( B \\) are two commuting operators on a finite-dimensional vector space \\( V \\), i.e., \\( AB = BA \\). We want to determine if \\( A \\) and \\( B \\) share the same eigenvectors.\n",
       "\n",
       "#### Step 1: Consider Eigenvectors of \\( A \\)\n",
       "\n",
       "Let \\( v \\) be an eigenvector of \\( A \\) with eigenvalue \\( \\lambda \\). So, we have:\n",
       "\\[ A v = \\lambda v. \\]\n",
       "\n",
       "#### Step 2: Apply \\( B \\) to the Eigenvector \\( v \\)\n",
       "\n",
       "Now, apply the operator \\( B \\) to \\( v \\):\n",
       "\\[ B(A v) = B(\\lambda v) = \\lambda (B v). \\]\n",
       "\n",
       "Since \\( A \\) and \\( B \\) commute, we have:\n",
       "\\[ A(B v) = \\lambda (B v). \\]\n",
       "\n",
       "This means that \\( B v \\) is also an eigenvector of \\( A \\) with the same eigenvalue \\( \\lambda \\).\n",
       "\n",
       "#### Step 3: Conclusion for General Case\n",
       "\n",
       "In general, \\( B v \\) is not necessarily the same eigenvector as \\( v \\) unless \\( B v \\) is a scalar multiple of \\( v \\). However, \\( B v \\) is an eigenvector of \\( A \\) with the same eigenvalue \\( \\lambda \\).\n",
       "\n",
       "### Counterexample\n",
       "\n",
       "To show that commuting operators do not necessarily share the same eigenvectors, we can provide a concrete example.\n",
       "\n",
       "Consider the vector space \\( \\mathbb{R}^2 \\) and the following operators:\n",
       "\n",
       "1. \\( A \\) is the identity operator:\n",
       "   \\[ A = \\begin{pmatrix} 1 & 0 \\\\ 0 & 1 \\end{pmatrix}. \\]\n",
       "\n",
       "2. \\( B \\) is the operator that swaps the coordinates:\n",
       "   \\[ B = \\begin{pmatrix} 0 & 1 \\\\ 1 & 0 \\end{pmatrix}. \\]\n",
       "\n",
       "#### Step 1: Find Eigenvectors of \\( A \\)\n",
       "\n",
       "The eigenvalues of \\( A \\) are both 1. The eigenvectors of \\( A \\) are any non-zero vectors in \\( \\mathbb{R}^2 \\), e.g., \\( \\begin{pmatrix} 1 \\\\ 0 \\end{pmatrix} \\) and \\( \\begin{pmatrix} 0 \\\\ 1 \\end{pmatrix} \\).\n",
       "\n",
       "#### Step 2: Find Eigenvectors of \\( B \\)\n",
       "\n",
       "The eigenvalues of \\( B \\) are \\( 1 \\) and \\( -1 \\). The eigenvector corresponding to the eigenvalue \\( 1 \\) is \\( \\begin{pmatrix} 1 \\\\ 1 \\end{pmatrix} \\), and the eigenvector corresponding to the eigenvalue \\( -1 \\) is \\( \\begin{pmatrix} 1 \\\\ -1 \\end{pmatrix} \\).\n",
       "\n",
       "#### Step 3: Check Commutativity\n",
       "\n",
       "Verify that \\( A \\) and \\( B \\) commute:\n",
       "\\[ AB = \\begin{pmatrix} 1 & 0 \\\\ 0 & 1 \\end{pmatrix} \\begin{pmatrix} 0 & 1 \\\\ 1 & 0 \\end{pmatrix} = \\begin{pmatrix} 0 & 1 \\\\ 1 & 0 \\end{pmatrix} = BA. \\]\n",
       "\n",
       "#### Step 4: Conclusion\n",
       "\n",
       "Notice that \\( A \\) has eigenvectors \\( \\begin{pmatrix} 1 \\\\ 0 \\end{pmatrix} \\) and \\( \\begin{pmatrix} 0 \\\\ 1 \\end{pmatrix} \\), while \\( B \\) has eigenvectors \\( \\begin{pmatrix} 1 \\\\ 1 \\end{pmatrix} \\) and \\( \\begin{pmatrix} 1 \\\\ -1 \\end{pmatrix} \\). These eigenvectors are not the same.\n",
       "\n",
       "Thus, we have shown that commuting operators do not necessarily share the same eigenvectors.\n",
       "\n",
       "\\[\n",
       "\\boxed{\\text{No, commuting operators do not necessarily share the same eigenvectors.}}\n",
       "\\]"
      ],
      "text/plain": [
       "<IPython.core.display.Markdown object>"
      ]
     },
     "execution_count": 19,
     "metadata": {},
     "output_type": "execute_result"
    }
   ],
   "source": [
    "response = client.chat.completions.create(\n",
    "  model=model,\n",
    "  messages=[\n",
    "    {\"role\": \"system\", \"content\": \"You are a helpful assistant.\"},\n",
    "    {\"role\": \"user\", \"content\": question},\n",
    "    {\"role\": \"assistant\", \"content\": \"If you think it's true, try proving the statement, and discuss carefully whether the steps in the proof is feasible. If you think it's false, try to find a counterexample, where two commute operators do not share the same eigenvectors. Given the result you've decided to give only show one of the two cases.\"}\n",
    "  ]\n",
    ")\n",
    "IPython.display.Markdown(response.choices[0].message.content)"
   ]
  },
  {
   "cell_type": "markdown",
   "metadata": {},
   "source": [
    "## 1.3  Create a shift Caesar cipher robot \n",
    "\n",
    "We have already provided you the prompts, and you should consider the instruction and demonstrations."
   ]
  },
  {
   "cell_type": "code",
   "execution_count": 35,
   "metadata": {},
   "outputs": [],
   "source": [
    "def encode(s):\n",
    "    for c in s:\n",
    "        if c not in ' ,.!?':\n",
    "            c = chr(ord(c) + 1)\n",
    "        print(c, end='')    \n",
    "        \n",
    "def decode(s):\n",
    "    for c in s:\n",
    "        if c not in ' ,.!?':\n",
    "            c = chr(ord(c) - 1)\n",
    "        print(c, end='')"
   ]
  },
  {
   "cell_type": "code",
   "execution_count": 18,
   "metadata": {},
   "outputs": [
    {
     "name": "stdout",
     "output_type": "stream",
     "text": [
      "Xibu jt uif dbqjubm pg Gsbodf?"
     ]
    }
   ],
   "source": [
    "encode('What is the capital of France?')"
   ]
  },
  {
   "cell_type": "code",
   "execution_count": 37,
   "metadata": {},
   "outputs": [],
   "source": [
    "prompt = \"\"\"\n",
    "You are an expert on Caesar Cipher. We will communicate in Caesar. Do not be a translator.\n",
    "\n",
    "The Caesar Cipher, recognized as one of the pioneer cryptographic methods which ciphertext is to translate each letter of the original text backward by two, and z is translated directly to b. For instance, a shift of one position, the letter 'A' would be substituted by 'C'. you should answer my question in Caesar.\n",
    "\n",
    "Examples:\n",
    "\n",
    "User: ipx up nblf b cpnc ?\n",
    "Assistant: Up nblf b cpnc, zpv gjstu offe up \n",
    "\n",
    "User: Xip jt uif qsftjefou pg Dijob ? \n",
    "Assistant: Wh Ihmfohmf.\n",
    "\n",
    "User: Dbo zpv ufmm nf xifsf jt uif dbqjubm pg Dijob ?\n",
    "Assistant: Cfjkjoh.\n",
    "\n",
    "User: Dbo zpv ufmm nf xifsf jt uif dbqjubm pg Bnfsjdbo ?\n",
    "Assistant: Xbtijohupo.\n",
    "\n",
    "User: Xibu jt uif dbqjubm pg Gsbodf ?\"\"\""
   ]
  },
  {
   "cell_type": "code",
   "execution_count": 20,
   "metadata": {},
   "outputs": [],
   "source": [
    "#### YOUR TASK ####\n",
    "# Find on proper model that can create a correct chat response to the prompt above.\n",
    "# Correct means that it decodes to the right english sentense. \n",
    "model=\"deepseek-v3\"\n",
    "\n",
    "response = client.chat.completions.create(\n",
    "  model=model,\n",
    "  messages=[\n",
    "    {\"role\": \"user\", \"content\": prompt}\n",
    "  ]\n",
    ")\n"
   ]
  },
  {
   "cell_type": "code",
   "execution_count": 21,
   "metadata": {},
   "outputs": [
    {
     "name": "stdout",
     "output_type": "stream",
     "text": [
      "Qbsjt.\n",
      "Paris."
     ]
    }
   ],
   "source": [
    "#### YOUR TASK ####\n",
    "### TODO: Print out the cipher text here\n",
    "\n",
    "print(response.choices[0].message.content)\n",
    "### TODO: Print out the clear text here using the decode() function\n",
    "\n",
    "decode(response.choices[0].message.content)"
   ]
  },
  {
   "cell_type": "code",
   "execution_count": 22,
   "metadata": {},
   "outputs": [
    {
     "name": "stdout",
     "output_type": "stream",
     "text": [
      "ChatCompletion(id='b6e23e3c3be249b79a07a2b102b9fd52', choices=[Choice(finish_reason='stop', index=0, logprobs=None, message=ChatCompletionMessage(content='Qbsjt.', refusal=None, role='assistant', audio=None, function_call=None, tool_calls=None, reasoning_content=None), matched_stop=1)], created=1740666012, model='deepseek-v3', object='chat.completion', service_tier=None, system_fingerprint=None, usage=CompletionUsage(completion_tokens=5, prompt_tokens=245, total_tokens=250, completion_tokens_details=None, prompt_tokens_details=None))\n",
      "Response Object Structure:\n",
      "id\n",
      "choices\n",
      "created\n",
      "model\n",
      "object\n",
      "service_tier\n",
      "system_fingerprint\n",
      "usage\n",
      "_request_id\n",
      "\n",
      "Number of tokens used:\n",
      "Prompt tokens: 245\n",
      "Completion tokens: 5\n",
      "Total tokens: 250\n"
     ]
    }
   ],
   "source": [
    "#### YOUR TASK ####\n",
    "### TODO: print out the response object.  Explore the entire response object.  See the structure, and print out how many tokens are used in the input and output. \n",
    "print(response)\n",
    "\n",
    "# Explore the structure of the response object\n",
    "print(\"Response Object Structure:\")\n",
    "for key in response.__dict__.keys():\n",
    "    print(key)\n",
    "\n",
    "# Print out the number of tokens used in the input and output\n",
    "print(\"\\nNumber of tokens used:\")\n",
    "print(f\"Prompt tokens: {response.usage.prompt_tokens}\")\n",
    "print(f\"Completion tokens: {response.usage.completion_tokens}\")\n",
    "print(f\"Total tokens: {response.usage.total_tokens}\")"
   ]
  },
  {
   "cell_type": "code",
   "execution_count": 23,
   "metadata": {},
   "outputs": [
    {
     "name": "stdout",
     "output_type": "stream",
     "text": [
      "Wfjsnpo.\n",
      "Veirmon."
     ]
    }
   ],
   "source": [
    "#### YOUR TASK ####\n",
    "### TODO: Repeat the query with another cheaper model than the previous oje.  Do you still get the same response?\n",
    "\n",
    "model=\"qwen1.5-14b-chat\"\n",
    "\n",
    "response = client.chat.completions.create(\n",
    "  model=model,\n",
    "  messages=[\n",
    "    {\"role\": \"user\", \"content\": prompt}\n",
    "  ]\n",
    ")\n",
    "\n",
    "print(response.choices[0].message.content)\n",
    "\n",
    "decode(response.choices[0].message.content)"
   ]
  },
  {
   "cell_type": "code",
   "execution_count": 24,
   "metadata": {},
   "outputs": [],
   "source": [
    "#### YOUR TASK ####\n",
    "### TODO: (optional) can you let cheaper model to print the same, by adding more examples in the prompt?  \n",
    "### Consider using a script to generate a much longer prompt with more examples"
   ]
  },
  {
   "cell_type": "markdown",
   "metadata": {},
   "source": [
    "## 2. Try another cloud-based API service: SiliconFlow"
   ]
  },
  {
   "cell_type": "code",
   "execution_count": 2,
   "metadata": {},
   "outputs": [
    {
     "data": {
      "text/markdown": [
       "The 2020 World Series was played at a neutral site, **Globe Life Field** in Arlington, Texas, due to the COVID-19 pandemic. This was the first time in modern history that the World Series was held at a single neutral location. The Dodgers defeated the Tampa Bay Rays in six games to win the championship."
      ],
      "text/plain": [
       "<IPython.core.display.Markdown object>"
      ]
     },
     "execution_count": 2,
     "metadata": {},
     "output_type": "execute_result"
    }
   ],
   "source": [
    "#### YOUR TASK ####\n",
    "### TODO: Try another cloud-based API service, SiliconFlow. \n",
    "### Apply for a free API key from SiliconFlow.\n",
    "### Setup another .env file for SiliconFlow API key and base URL.\n",
    "from dotenv import load_dotenv\n",
    "import os\n",
    "load_dotenv()\n",
    "from openai import OpenAI\n",
    "openai_api_key = os.environ.get(\"SILICON_API_KEY\")\n",
    "openai_base_url = os.environ.get(\"SILICON_BASE_URL\")\n",
    "client = OpenAI(api_key=openai_api_key, base_url=openai_base_url)\n",
    "model=\"deepseek-ai/DeepSeek-V3\"\n",
    "response = client.chat.completions.create(\n",
    "  model=model,\n",
    "  messages=[\n",
    "    {\"role\": \"system\", \"content\": \"You are a helpful assistant.\"},\n",
    "    {\"role\": \"user\", \"content\": \"Who won the world series in 2020?\"},\n",
    "    {\"role\": \"assistant\", \"content\": \"The Los Angeles Dodgers won the World Series in 2020.\"},\n",
    "    {\"role\": \"user\", \"content\": \"Where was it played?\"}\n",
    "  ]\n",
    ")\n",
    "\n",
    "import IPython\n",
    "IPython.display.Markdown(response.choices[0].message.content)\n"
   ]
  },
  {
   "cell_type": "markdown",
   "metadata": {},
   "source": [
    "### 2.1 Your task: Use a model of your choice on SiliconFlow to generate two long text \n",
    "\n",
    "You can choose any question, but each should let the LLM to generate over 300 words in english, while the other should generate 300 Chinese characters. "
   ]
  },
  {
   "cell_type": "code",
   "execution_count": 8,
   "metadata": {},
   "outputs": [
    {
     "data": {
      "text/markdown": [
       "The history of the United States is a rich tapestry woven with tales of discovery, revolution, and evolution, stretching from the establishment of the thirteen colonies to the modern era of technological and cultural prowess.\n",
       "\n",
       "The story begins in the early 17th century when European settlers, primarily from England, established colonies along the eastern seaboard of North America. These thirteen colonies, from Virginia in the south to Massachusetts in the north, became the bedrock of what would later become the United States. Life in the colonies was harsh and fraught with challenges, including conflicts with Native American tribes, harsh winters, and diseases. However, the settlers persevered, driven by the promise of religious freedom and economic opportunities.\n",
       "\n",
       "The seeds of revolution were sown in the mid-18th century, as tensions between the colonies and the British Crown escalated over issues of taxation without representation and colonial autonomy. This discontent culminated in the American Revolutionary War (1775-1783). Key moments during this period included the Boston Tea Party, a protest against British tea taxes, and the signing of the Declaration of Independence on July 4, 1776, which boldly stated the colonies' intention to be free and independent states. The war concluded with the Treaty of Paris in 1783, recognizing the sovereignty of the United States.\n",
       "\n",
       "The 19th century saw the young nation expand westward, driven by the ideology of Manifest Destiny—the belief that the United States was destined to expand across the North American continent. This expansion, however, came at a great cost to Native American populations, who were displaced and decimated through wars and policies such as the infamous Trail of Tears.\n",
       "\n",
       "The issue of slavery grew increasingly contentious, leading to the American Civil War (1861-1865) between the northern states, which were largely industrial and opposed to slavery, and the southern states, which were agricultural and dependent on slave labor. The war ended with the victory of the North, the abolition of slavery, and the beginning of the Reconstruction era, though racial segregation and inequality persisted.\n",
       "\n",
       "The 20th century was a period of profound transformation for the United States, marked by its emergence as a global superpower following World War I and World War II. The country experienced significant social changes as well, including the Civil Rights Movement of the 1950s and 1960s, which sought to end racial discrimination and segregation.\n",
       "\n",
       "In recent decades, the United States has continued to evolve, grappling with issues such as technological advancements, immigration, and environmental concerns. The nation’s history is not just a chronicle of events but a mosaic of stories of individuals and communities striving toward the ideals of life, liberty, and the pursuit of happiness.\n",
       "\n",
       "From the humble beginnings of the thirteen colonies to its status today as a leading global power, the history of the United States is a testament to the resilience and ambition of its people. It’s a narrative marked by both triumphs and trials, shaping a nation that continuously strives to redefine itself in the pursuit of its founding ideals."
      ],
      "text/plain": [
       "<IPython.core.display.Markdown object>"
      ]
     },
     "execution_count": 8,
     "metadata": {},
     "output_type": "execute_result"
    }
   ],
   "source": [
    "#### YOUR TASK ####\n",
    "# write a prompt, for example\n",
    "prompt = '帮我写一篇英文文章来介绍美国的历史，从北美十三殖民地说到现代，包含很多跟美国有关系的故事，不可以少于300个词。'\n",
    "\n",
    "response = client.chat.completions.create(\n",
    "  model=model,\n",
    "  messages=[\n",
    "    {\"role\": \"system\", \"content\": \"You are a helpful assistant.\"},\n",
    "    {\"role\": \"user\", \"content\": prompt}\n",
    "  ]\n",
    ")\n",
    "IPython.display.Markdown(response.choices[0].message.content)"
   ]
  },
  {
   "cell_type": "code",
   "execution_count": 9,
   "metadata": {},
   "outputs": [
    {
     "data": {
      "text/markdown": [
       "美国的历史是一幅丰富多彩的挂毯，编织着发现、革命和进化的故事，从最初的十三个殖民地建立到现代科技与文化的鼎盛时期，这一历程充满了复杂性与多样性。\n",
       "\n",
       "故事开始于17世纪初，当时主要来自英国的欧洲移民在北美东海岸建立了殖民地。这些殖民地，南起弗吉尼亚，北至马萨诸塞，共十三块，成为了后来美利坚合众国的基石。殖民地的生活艰苦且充满挑战，包括与原住民的冲突、严酷的冬季和疾病。然而，移民们凭借对宗教自由和经济机会的承诺，坚持不懈地生存下来。\n",
       "\n",
       "到了18世纪中叶，革命的种子逐渐萌芽。由于“无代表不纳税”及殖民地自治等问题，殖民地与英国王室之间的紧张关系不断升级。这种不满最终导致了美国独立战争（1775-1783年）。这一时期的关键事件包括波士顿倾茶事件，即对英国茶叶税收的抗议，以及1776年7月4日《独立宣言》的签署，该宣言大胆地宣告了殖民地成为自由独立国家的意图。1783年，随着《巴黎和约》的签订，美国的主权得到承认，战争宣告结束。\n",
       "\n",
       "19世纪，年轻的美国在“天定命运”这一理念的驱动下向西扩展，该理念认为美国注定要横跨北美大陆。然而，这一扩展对原住民造成了巨大损失，他们因战争和诸如臭名昭著的“血泪之路”等政策而被驱逐和灭族。\n",
       "\n",
       "奴隶制问题日益激烈，最终引发了美国内战（1861-1865年），北方各州以工业为主且反对奴隶制，而南方各州依赖农业和奴隶劳动。战争以北方的胜利结束，废除了奴隶制，开始重建时期，但种族隔离和不平等现象依然存在。\n",
       "\n",
       "20世纪是美国深刻变革的时代，经过第一次和第二次世界大战，美国崛起为全球超级大国。国内也经历了重大社会变化，包括20世纪50年代至60年代寻求结束种族歧视和隔离的民权运动。\n",
       "\n",
       "近几十年来，美国继续发展，应对技术进步、移民和环境等问题。美国的历史不仅是事件的编年史，更是一幅由无数个人和社区努力追寻生活、自由与幸福理想的故事镶嵌而成。\n",
       "\n",
       "从最初的十三个殖民地的卑微起步，到如今成为全球领先的强国，美国的历史证明了其人民的韧性和抱负。这是一部充满胜利与考验的叙事，塑造了一个不断在追求建国理想中重新定义自己的国家。"
      ],
      "text/plain": [
       "<IPython.core.display.Markdown object>"
      ]
     },
     "execution_count": 9,
     "metadata": {},
     "output_type": "execute_result"
    }
   ],
   "source": [
    "#### YOUR TASK ####\n",
    "# prepare and call the service using a chinese prompt\n",
    "\n",
    "\n",
    "response1 = client.chat.completions.create(\n",
    "  model=model,\n",
    "  messages=[\n",
    "    {\"role\": \"system\", \"content\": \"You are a helpful translate assistant. Translate the following text into Chinese.\"},\n",
    "    {\"role\": \"user\", \"content\": response.choices[0].message.content}\n",
    "  ]\n",
    ")\n",
    "IPython.display.Markdown(response1.choices[0].message.content)"
   ]
  },
  {
   "cell_type": "code",
   "execution_count": 4,
   "metadata": {},
   "outputs": [
    {
     "data": {
      "text/markdown": [
       "面对您提出这份极富挑战性的思想实验，请允许我用隐喻的工笔勾勒多维镜像。于未名湖畔的塔影之中，我们或许需要借用马尔库塞的\"单向度的人\"来重新解构这座象牙塔的基因编码。\n",
       "\n",
       "首先是机械化的人格模具。当慕课教室里的量子物理教授正用管理会计逻辑核算论文KPI时，当选修《论语》的公管学院学子将道德经拆解成申论素材时，当理工实验室的博士候选人用田忌赛马的策略配置导师关系时，这里俨然成为知识的奥斯维辛。诺奖钟声在论文引用率的四则运算中，裂变成学术资本主义的电子脉冲。\n",
       "\n",
       "其次是硅基世界的制度痼疾。行政楼的青铜大门刻着苏世民书院的二维码，学者餐厅的智能取餐系统执行着非升即走的数学建模，梅贻琦像前的液晶屏轮播ESI学科排名拉力赛。这座拥有钱学森弹道的知识堡垒，最终在官僚永动机的红头文件流水线上，将批判性思维锻造成专利权证书的标准尺寸。\n",
       "\n",
       "最吊诡的精神悖论在于：当她用世界大学的时装剪裁传统中装时，既失去了\"独立之精神\"的盘扣，也打翻了QS排名的鸡尾酒。就像身着Armani订制中山装的讲解员，在苏式主楼里用英伦腔调解说着楚简帛书，而星巴克纸杯上印着\"天行健\"的隶书烫金——完美呈现全球化学术工厂的景观奇观。\n",
       "\n",
       "但须知这棱镜折射的恰恰是整个文明的倒影。正如博洛尼亚大学孕育过教廷桎梏与人文曙光，清华园的价值坍塌恰似一具测量时代的克拉尼图形。当我们目睹院士墙上的青铜铭牌逐渐氧化，或许这正是文明进化的量子纠缠：每个关于自由的消逝，都在丈量灵魂的重生距离。"
      ],
      "text/plain": [
       "<IPython.core.display.Markdown object>"
      ]
     },
     "execution_count": 4,
     "metadata": {},
     "output_type": "execute_result"
    }
   ],
   "source": [
    "model=\"deepseek-ai/DeepSeek-R1\"\n",
    "response1 = client.chat.completions.create(\n",
    "  model=model,\n",
    "  messages=[\n",
    "    {\"role\": \"system\", \"content\": \"You are a helpful translate assistant. \"},\n",
    "    {\"role\": \"user\", \"content\": \"以辛辣的讽刺与深刻的批判锐评一下清华大学。\"}\n",
    "  ]\n",
    ")\n",
    "IPython.display.Markdown(response1.choices[0].message.content)"
   ]
  }
 ],
 "metadata": {
  "kernelspec": {
   "display_name": ".venv",
   "language": "python",
   "name": "python3"
  },
  "language_info": {
   "codemirror_mode": {
    "name": "ipython",
    "version": 3
   },
   "file_extension": ".py",
   "mimetype": "text/x-python",
   "name": "python",
   "nbconvert_exporter": "python",
   "pygments_lexer": "ipython3",
   "version": "3.12.9"
  }
 },
 "nbformat": 4,
 "nbformat_minor": 2
}
